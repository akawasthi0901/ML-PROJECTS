{
 "cells": [
  {
   "cell_type": "markdown",
   "id": "b486dd6f",
   "metadata": {},
   "source": [
    "Importing the Dependencies"
   ]
  },
  {
   "cell_type": "code",
   "execution_count": 1,
   "id": "20232b4a",
   "metadata": {},
   "outputs": [],
   "source": [
    "import numpy as np\n",
    "import pandas as pd\n",
    "from sklearn.linear_model import LogisticRegression\n",
    "from sklearn.model_selection import train_test_split\n",
    "from sklearn.feature_extraction.text import TfidfVectorizer\n",
    "from sklearn.metrics import accuracy_score\n",
    "from sklearn.svm import SVC"
   ]
  },
  {
   "cell_type": "markdown",
   "id": "c1435a39",
   "metadata": {},
   "source": [
    "Data collection and preprocessing"
   ]
  },
  {
   "cell_type": "code",
   "execution_count": 2,
   "id": "4b52ef6d",
   "metadata": {},
   "outputs": [],
   "source": [
    "mail_data = pd.read_csv('C://Users//akash//Downloads//Downloads//mail_data.csv')"
   ]
  },
  {
   "cell_type": "code",
   "execution_count": 3,
   "id": "dea172b5",
   "metadata": {},
   "outputs": [
    {
     "data": {
      "text/html": [
       "<div>\n",
       "<style scoped>\n",
       "    .dataframe tbody tr th:only-of-type {\n",
       "        vertical-align: middle;\n",
       "    }\n",
       "\n",
       "    .dataframe tbody tr th {\n",
       "        vertical-align: top;\n",
       "    }\n",
       "\n",
       "    .dataframe thead th {\n",
       "        text-align: right;\n",
       "    }\n",
       "</style>\n",
       "<table border=\"1\" class=\"dataframe\">\n",
       "  <thead>\n",
       "    <tr style=\"text-align: right;\">\n",
       "      <th></th>\n",
       "      <th>Category</th>\n",
       "      <th>Message</th>\n",
       "    </tr>\n",
       "  </thead>\n",
       "  <tbody>\n",
       "    <tr>\n",
       "      <th>0</th>\n",
       "      <td>ham</td>\n",
       "      <td>Go until jurong point, crazy.. Available only ...</td>\n",
       "    </tr>\n",
       "    <tr>\n",
       "      <th>1</th>\n",
       "      <td>ham</td>\n",
       "      <td>Ok lar... Joking wif u oni...</td>\n",
       "    </tr>\n",
       "    <tr>\n",
       "      <th>2</th>\n",
       "      <td>spam</td>\n",
       "      <td>Free entry in 2 a wkly comp to win FA Cup fina...</td>\n",
       "    </tr>\n",
       "    <tr>\n",
       "      <th>3</th>\n",
       "      <td>ham</td>\n",
       "      <td>U dun say so early hor... U c already then say...</td>\n",
       "    </tr>\n",
       "    <tr>\n",
       "      <th>4</th>\n",
       "      <td>ham</td>\n",
       "      <td>Nah I don't think he goes to usf, he lives aro...</td>\n",
       "    </tr>\n",
       "  </tbody>\n",
       "</table>\n",
       "</div>"
      ],
      "text/plain": [
       "  Category                                            Message\n",
       "0      ham  Go until jurong point, crazy.. Available only ...\n",
       "1      ham                      Ok lar... Joking wif u oni...\n",
       "2     spam  Free entry in 2 a wkly comp to win FA Cup fina...\n",
       "3      ham  U dun say so early hor... U c already then say...\n",
       "4      ham  Nah I don't think he goes to usf, he lives aro..."
      ]
     },
     "execution_count": 3,
     "metadata": {},
     "output_type": "execute_result"
    }
   ],
   "source": [
    "mail_data.head()"
   ]
  },
  {
   "cell_type": "code",
   "execution_count": 4,
   "id": "5e630f83",
   "metadata": {},
   "outputs": [],
   "source": [
    "#replace the null values with null string"
   ]
  },
  {
   "cell_type": "code",
   "execution_count": 5,
   "id": "ff05a0d4",
   "metadata": {},
   "outputs": [
    {
     "data": {
      "text/html": [
       "<div>\n",
       "<style scoped>\n",
       "    .dataframe tbody tr th:only-of-type {\n",
       "        vertical-align: middle;\n",
       "    }\n",
       "\n",
       "    .dataframe tbody tr th {\n",
       "        vertical-align: top;\n",
       "    }\n",
       "\n",
       "    .dataframe thead th {\n",
       "        text-align: right;\n",
       "    }\n",
       "</style>\n",
       "<table border=\"1\" class=\"dataframe\">\n",
       "  <thead>\n",
       "    <tr style=\"text-align: right;\">\n",
       "      <th></th>\n",
       "      <th>Category</th>\n",
       "      <th>Message</th>\n",
       "    </tr>\n",
       "  </thead>\n",
       "  <tbody>\n",
       "    <tr>\n",
       "      <th>0</th>\n",
       "      <td>ham</td>\n",
       "      <td>Go until jurong point, crazy.. Available only ...</td>\n",
       "    </tr>\n",
       "    <tr>\n",
       "      <th>1</th>\n",
       "      <td>ham</td>\n",
       "      <td>Ok lar... Joking wif u oni...</td>\n",
       "    </tr>\n",
       "    <tr>\n",
       "      <th>2</th>\n",
       "      <td>spam</td>\n",
       "      <td>Free entry in 2 a wkly comp to win FA Cup fina...</td>\n",
       "    </tr>\n",
       "    <tr>\n",
       "      <th>3</th>\n",
       "      <td>ham</td>\n",
       "      <td>U dun say so early hor... U c already then say...</td>\n",
       "    </tr>\n",
       "    <tr>\n",
       "      <th>4</th>\n",
       "      <td>ham</td>\n",
       "      <td>Nah I don't think he goes to usf, he lives aro...</td>\n",
       "    </tr>\n",
       "  </tbody>\n",
       "</table>\n",
       "</div>"
      ],
      "text/plain": [
       "  Category                                            Message\n",
       "0      ham  Go until jurong point, crazy.. Available only ...\n",
       "1      ham                      Ok lar... Joking wif u oni...\n",
       "2     spam  Free entry in 2 a wkly comp to win FA Cup fina...\n",
       "3      ham  U dun say so early hor... U c already then say...\n",
       "4      ham  Nah I don't think he goes to usf, he lives aro..."
      ]
     },
     "execution_count": 5,
     "metadata": {},
     "output_type": "execute_result"
    }
   ],
   "source": [
    "mail_data1 = mail_data.where((pd.notnull(mail_data)),'')\n",
    "mail_data1.head()"
   ]
  },
  {
   "cell_type": "code",
   "execution_count": 6,
   "id": "e2c11a8b",
   "metadata": {},
   "outputs": [
    {
     "data": {
      "text/plain": [
       "(5572, 2)"
      ]
     },
     "execution_count": 6,
     "metadata": {},
     "output_type": "execute_result"
    }
   ],
   "source": [
    "mail_data1.shape"
   ]
  },
  {
   "cell_type": "markdown",
   "id": "331d5df8",
   "metadata": {},
   "source": [
    "Label Encoding"
   ]
  },
  {
   "cell_type": "code",
   "execution_count": 7,
   "id": "2ca8595a",
   "metadata": {},
   "outputs": [],
   "source": [
    "#label ham mail as 1 and spam mail as 0;"
   ]
  },
  {
   "cell_type": "code",
   "execution_count": 8,
   "id": "84884269",
   "metadata": {},
   "outputs": [],
   "source": [
    "mail_data1.loc[mail_data1['Category'] =='spam' , 'Category',] = 0\n",
    "mail_data1.loc[mail_data1['Category'] =='ham' , 'Category',] = 1"
   ]
  },
  {
   "cell_type": "code",
   "execution_count": 9,
   "id": "e5bd7e81",
   "metadata": {},
   "outputs": [
    {
     "data": {
      "text/html": [
       "<div>\n",
       "<style scoped>\n",
       "    .dataframe tbody tr th:only-of-type {\n",
       "        vertical-align: middle;\n",
       "    }\n",
       "\n",
       "    .dataframe tbody tr th {\n",
       "        vertical-align: top;\n",
       "    }\n",
       "\n",
       "    .dataframe thead th {\n",
       "        text-align: right;\n",
       "    }\n",
       "</style>\n",
       "<table border=\"1\" class=\"dataframe\">\n",
       "  <thead>\n",
       "    <tr style=\"text-align: right;\">\n",
       "      <th></th>\n",
       "      <th>Category</th>\n",
       "      <th>Message</th>\n",
       "    </tr>\n",
       "  </thead>\n",
       "  <tbody>\n",
       "    <tr>\n",
       "      <th>0</th>\n",
       "      <td>1</td>\n",
       "      <td>Go until jurong point, crazy.. Available only ...</td>\n",
       "    </tr>\n",
       "    <tr>\n",
       "      <th>1</th>\n",
       "      <td>1</td>\n",
       "      <td>Ok lar... Joking wif u oni...</td>\n",
       "    </tr>\n",
       "    <tr>\n",
       "      <th>2</th>\n",
       "      <td>0</td>\n",
       "      <td>Free entry in 2 a wkly comp to win FA Cup fina...</td>\n",
       "    </tr>\n",
       "    <tr>\n",
       "      <th>3</th>\n",
       "      <td>1</td>\n",
       "      <td>U dun say so early hor... U c already then say...</td>\n",
       "    </tr>\n",
       "    <tr>\n",
       "      <th>4</th>\n",
       "      <td>1</td>\n",
       "      <td>Nah I don't think he goes to usf, he lives aro...</td>\n",
       "    </tr>\n",
       "  </tbody>\n",
       "</table>\n",
       "</div>"
      ],
      "text/plain": [
       "  Category                                            Message\n",
       "0        1  Go until jurong point, crazy.. Available only ...\n",
       "1        1                      Ok lar... Joking wif u oni...\n",
       "2        0  Free entry in 2 a wkly comp to win FA Cup fina...\n",
       "3        1  U dun say so early hor... U c already then say...\n",
       "4        1  Nah I don't think he goes to usf, he lives aro..."
      ]
     },
     "execution_count": 9,
     "metadata": {},
     "output_type": "execute_result"
    }
   ],
   "source": [
    "mail_data1.head()"
   ]
  },
  {
   "cell_type": "code",
   "execution_count": 10,
   "id": "ab329f69",
   "metadata": {},
   "outputs": [],
   "source": [
    "#seperating the data as text and labels"
   ]
  },
  {
   "cell_type": "code",
   "execution_count": 11,
   "id": "4cfabb75",
   "metadata": {},
   "outputs": [],
   "source": [
    "X = mail_data1['Message']\n",
    "y = mail_data1['Category']"
   ]
  },
  {
   "cell_type": "code",
   "execution_count": 12,
   "id": "b55479f7",
   "metadata": {},
   "outputs": [
    {
     "name": "stdout",
     "output_type": "stream",
     "text": [
      "0       Go until jurong point, crazy.. Available only ...\n",
      "1                           Ok lar... Joking wif u oni...\n",
      "2       Free entry in 2 a wkly comp to win FA Cup fina...\n",
      "3       U dun say so early hor... U c already then say...\n",
      "4       Nah I don't think he goes to usf, he lives aro...\n",
      "                              ...                        \n",
      "5567    This is the 2nd time we have tried 2 contact u...\n",
      "5568                 Will ü b going to esplanade fr home?\n",
      "5569    Pity, * was in mood for that. So...any other s...\n",
      "5570    The guy did some bitching but I acted like i'd...\n",
      "5571                           Rofl. Its true to its name\n",
      "Name: Message, Length: 5572, dtype: object\n"
     ]
    }
   ],
   "source": [
    "print(X)"
   ]
  },
  {
   "cell_type": "code",
   "execution_count": 13,
   "id": "c5cc06a6",
   "metadata": {},
   "outputs": [
    {
     "name": "stdout",
     "output_type": "stream",
     "text": [
      "0       1\n",
      "1       1\n",
      "2       0\n",
      "3       1\n",
      "4       1\n",
      "       ..\n",
      "5567    0\n",
      "5568    1\n",
      "5569    1\n",
      "5570    1\n",
      "5571    1\n",
      "Name: Category, Length: 5572, dtype: object\n"
     ]
    }
   ],
   "source": [
    "print(y)"
   ]
  },
  {
   "cell_type": "code",
   "execution_count": 14,
   "id": "f0b67657",
   "metadata": {},
   "outputs": [],
   "source": [
    "X_train,X_test,y_train,y_test = train_test_split(X,y,test_size=0.3,random_state=3,stratify=y)"
   ]
  },
  {
   "cell_type": "code",
   "execution_count": 15,
   "id": "a14f4402",
   "metadata": {},
   "outputs": [
    {
     "name": "stdout",
     "output_type": "stream",
     "text": [
      "(5572,) (3900,) (1672,)\n"
     ]
    }
   ],
   "source": [
    "print(X.shape , X_train.shape , X_test.shape)"
   ]
  },
  {
   "cell_type": "markdown",
   "id": "61613d47",
   "metadata": {},
   "source": [
    "Feature Extraction"
   ]
  },
  {
   "cell_type": "code",
   "execution_count": 16,
   "id": "275256ac",
   "metadata": {},
   "outputs": [],
   "source": [
    "#transform the text data to feature vectors"
   ]
  },
  {
   "cell_type": "code",
   "execution_count": 17,
   "id": "7471b9f3",
   "metadata": {},
   "outputs": [],
   "source": [
    "feature_extraction = TfidfVectorizer(min_df=1,stop_words='english',lowercase='True')"
   ]
  },
  {
   "cell_type": "code",
   "execution_count": 18,
   "id": "df9c8be3",
   "metadata": {},
   "outputs": [],
   "source": [
    "X_train_features = feature_extraction.fit_transform(X_train)\n",
    "X_test_features = feature_extraction.transform(X_test)"
   ]
  },
  {
   "cell_type": "code",
   "execution_count": 19,
   "id": "ad1571dc",
   "metadata": {},
   "outputs": [],
   "source": [
    "#convert y_test and y_train to integers"
   ]
  },
  {
   "cell_type": "code",
   "execution_count": 20,
   "id": "bfccc5e8",
   "metadata": {},
   "outputs": [],
   "source": [
    "y_train = y_train.astype('int')\n",
    "y_test = y_test.astype('int')"
   ]
  },
  {
   "cell_type": "code",
   "execution_count": 21,
   "id": "bd59405e",
   "metadata": {},
   "outputs": [
    {
     "name": "stdout",
     "output_type": "stream",
     "text": [
      "  (0, 2519)\t0.3641968313719766\n",
      "  (0, 4129)\t0.27179293265131954\n",
      "  (0, 6632)\t0.21401040065599355\n",
      "  (0, 2209)\t0.3839460075352549\n",
      "  (0, 6029)\t0.3229271034152822\n",
      "  (0, 5735)\t0.34444765520869836\n",
      "  (0, 6414)\t0.339315811943346\n",
      "  (0, 6687)\t0.23742642359011534\n",
      "  (0, 6213)\t0.3979582710179898\n",
      "  (0, 2847)\t0.21787810322301548\n",
      "  (1, 3117)\t0.43638873186978966\n",
      "  (1, 5408)\t0.6690772949333789\n",
      "  (1, 6133)\t0.6015816221442515\n",
      "  (2, 4788)\t0.3315528562552779\n",
      "  (2, 6265)\t0.23549196165793967\n",
      "  (2, 6828)\t0.30154914603644467\n",
      "  (2, 2926)\t0.17691957442728626\n",
      "  (2, 3830)\t0.17691957442728626\n",
      "  (2, 4673)\t0.29365713794622456\n",
      "  (2, 3325)\t0.31120818330674616\n",
      "  (2, 2694)\t0.24263763739852487\n",
      "  (2, 2594)\t0.35366455838389094\n",
      "  (2, 3545)\t0.32366084816505775\n",
      "  (2, 2949)\t0.29019239297787963\n",
      "  (2, 4528)\t0.35366455838389094\n",
      "  :\t:\n",
      "  (3894, 3486)\t0.17639883874980888\n",
      "  (3894, 2677)\t0.19595745329569172\n",
      "  (3894, 3704)\t0.19799799011751754\n",
      "  (3894, 3560)\t0.19482995679684487\n",
      "  (3894, 6912)\t0.23370254678346536\n",
      "  (3895, 3000)\t0.4112130194576722\n",
      "  (3895, 6902)\t0.448802374733944\n",
      "  (3895, 4869)\t0.4668184417844967\n",
      "  (3895, 4147)\t0.4084215516536678\n",
      "  (3895, 4297)\t0.37100689532577824\n",
      "  (3895, 2858)\t0.3272713602457578\n",
      "  (3896, 6267)\t0.5705129096773291\n",
      "  (3896, 4436)\t0.5907876435598627\n",
      "  (3896, 5648)\t0.5705129096773291\n",
      "  (3897, 3747)\t0.5548944257012753\n",
      "  (3897, 5346)\t0.49560640745064344\n",
      "  (3897, 2026)\t0.3997401130455197\n",
      "  (3897, 6649)\t0.32038371430151513\n",
      "  (3897, 5944)\t0.4289855275556961\n",
      "  (3898, 2423)\t0.6262888553697598\n",
      "  (3898, 2935)\t0.5171593758853816\n",
      "  (3898, 3772)\t0.45523677870828505\n",
      "  (3898, 2858)\t0.36478476514896113\n",
      "  (3899, 5862)\t0.7626374625817024\n",
      "  (3899, 3030)\t0.6468261750014005\n"
     ]
    }
   ],
   "source": [
    "print(X_train_features)"
   ]
  },
  {
   "cell_type": "code",
   "execution_count": 22,
   "id": "b2541b48",
   "metadata": {},
   "outputs": [
    {
     "name": "stdout",
     "output_type": "stream",
     "text": [
      "  (0, 6824)\t0.3544732268849484\n",
      "  (0, 6797)\t0.27847798981605437\n",
      "  (0, 6632)\t0.2349166623215086\n",
      "  (0, 5337)\t0.36271498534288454\n",
      "  (0, 5291)\t0.2843163953888462\n",
      "  (0, 4612)\t0.4585124789163523\n",
      "  (0, 4312)\t0.2633278487159964\n",
      "  (0, 3749)\t0.21392281546534248\n",
      "  (0, 3704)\t0.22489733148439828\n",
      "  (0, 899)\t0.3915327561998774\n",
      "  (1, 6314)\t0.46523655015574283\n",
      "  (1, 3704)\t0.22819544385425986\n",
      "  (1, 1567)\t0.8552670879925992\n",
      "  (2, 5406)\t0.4209359421083416\n",
      "  (2, 4375)\t0.4922719376131311\n",
      "  (2, 2902)\t0.47342397443160406\n",
      "  (2, 717)\t0.5969514322902327\n",
      "  (3, 6797)\t0.18355544232288432\n",
      "  (3, 6473)\t0.1375468777525989\n",
      "  (3, 5851)\t0.16543201615972547\n",
      "  (3, 4667)\t0.3022230264361137\n",
      "  (3, 2930)\t0.20451364121435192\n",
      "  (3, 2799)\t0.3022230264361137\n",
      "  (3, 2677)\t0.14671066901671276\n",
      "  (3, 1647)\t0.18064128608566513\n",
      "  :\t:\n",
      "  (1669, 6887)\t0.283412076857172\n",
      "  (1669, 5448)\t0.40114178801358985\n",
      "  (1669, 4294)\t0.3255103991950951\n",
      "  (1669, 3805)\t0.42104895018330063\n",
      "  (1669, 2863)\t0.42104895018330063\n",
      "  (1669, 1592)\t0.3671102695057048\n",
      "  (1669, 1469)\t0.3131715888281091\n",
      "  (1670, 5555)\t0.31097130381880844\n",
      "  (1670, 3602)\t0.2533165523155059\n",
      "  (1670, 2708)\t0.3278342376277228\n",
      "  (1670, 2091)\t0.3045603139246231\n",
      "  (1670, 2021)\t0.2701794861244203\n",
      "  (1670, 1970)\t0.24135211037276902\n",
      "  (1670, 1470)\t0.49089229118020417\n",
      "  (1670, 1051)\t0.2499876471781863\n",
      "  (1670, 334)\t0.31097130381880844\n",
      "  (1670, 173)\t0.3278342376277228\n",
      "  (1671, 5543)\t0.39969286536313403\n",
      "  (1671, 3890)\t0.3807954172507557\n",
      "  (1671, 3810)\t0.41696323091553916\n",
      "  (1671, 3693)\t0.2545817501862331\n",
      "  (1671, 3368)\t0.3202399408733712\n",
      "  (1671, 2524)\t0.3202399408733712\n",
      "  (1671, 1994)\t0.3673874644372951\n",
      "  (1671, 1990)\t0.3413055399907748\n"
     ]
    }
   ],
   "source": [
    "print(X_test_features)"
   ]
  },
  {
   "cell_type": "markdown",
   "id": "fce92d41",
   "metadata": {},
   "source": [
    "Logistic Regression"
   ]
  },
  {
   "cell_type": "code",
   "execution_count": 23,
   "id": "fb38ce0c",
   "metadata": {},
   "outputs": [],
   "source": [
    "model = LogisticRegression()"
   ]
  },
  {
   "cell_type": "code",
   "execution_count": 24,
   "id": "fbf950e8",
   "metadata": {},
   "outputs": [],
   "source": [
    "modelsvm = SVC()"
   ]
  },
  {
   "cell_type": "code",
   "execution_count": 25,
   "id": "0e3f60f4",
   "metadata": {},
   "outputs": [
    {
     "data": {
      "text/plain": [
       "LogisticRegression()"
      ]
     },
     "execution_count": 25,
     "metadata": {},
     "output_type": "execute_result"
    }
   ],
   "source": [
    "#training the logistic regression model with the training data\n",
    "model.fit(X_train_features,y_train)"
   ]
  },
  {
   "cell_type": "code",
   "execution_count": 26,
   "id": "379d6d55",
   "metadata": {},
   "outputs": [
    {
     "data": {
      "text/plain": [
       "SVC()"
      ]
     },
     "execution_count": 26,
     "metadata": {},
     "output_type": "execute_result"
    }
   ],
   "source": [
    "modelsvm.fit(X_train_features, y_train)"
   ]
  },
  {
   "cell_type": "markdown",
   "id": "3004f924",
   "metadata": {},
   "source": [
    "Evaluating the trained model"
   ]
  },
  {
   "cell_type": "code",
   "execution_count": 27,
   "id": "0e688866",
   "metadata": {},
   "outputs": [],
   "source": [
    "#prediction on trained data"
   ]
  },
  {
   "cell_type": "code",
   "execution_count": 28,
   "id": "c9e18db3",
   "metadata": {},
   "outputs": [],
   "source": [
    "train_data_prediction = model.predict(X_train_features)\n",
    "train_data_accuracy = accuracy_score(y_train,train_data_prediction)"
   ]
  },
  {
   "cell_type": "code",
   "execution_count": 29,
   "id": "1c9344ec",
   "metadata": {},
   "outputs": [
    {
     "name": "stdout",
     "output_type": "stream",
     "text": [
      "0.9653846153846154\n"
     ]
    }
   ],
   "source": [
    "print(train_data_accuracy)"
   ]
  },
  {
   "cell_type": "code",
   "execution_count": 30,
   "id": "090acd57",
   "metadata": {},
   "outputs": [],
   "source": [
    "#prediction on test data"
   ]
  },
  {
   "cell_type": "code",
   "execution_count": 31,
   "id": "35496ae4",
   "metadata": {},
   "outputs": [],
   "source": [
    "test_data_prediction = model.predict(X_test_features)"
   ]
  },
  {
   "cell_type": "code",
   "execution_count": 32,
   "id": "68330ccb",
   "metadata": {},
   "outputs": [
    {
     "name": "stdout",
     "output_type": "stream",
     "text": [
      "0.9820574162679426\n"
     ]
    }
   ],
   "source": [
    "test_svm = modelsvm.predict(X_test_features)\n",
    "test_data_accuracy_svm = accuracy_score(y_test , test_svm)\n",
    "print(test_data_accuracy_svm)"
   ]
  },
  {
   "cell_type": "code",
   "execution_count": 33,
   "id": "44ee33ca",
   "metadata": {},
   "outputs": [],
   "source": [
    "test_data_accuracy = accuracy_score(y_test , test_data_prediction)"
   ]
  },
  {
   "cell_type": "code",
   "execution_count": 34,
   "id": "fbef6fc6",
   "metadata": {},
   "outputs": [
    {
     "name": "stdout",
     "output_type": "stream",
     "text": [
      "0.9694976076555024\n"
     ]
    }
   ],
   "source": [
    "print(test_data_accuracy)"
   ]
  },
  {
   "cell_type": "markdown",
   "id": "c2197720",
   "metadata": {},
   "source": [
    "# Predictor System"
   ]
  },
  {
   "cell_type": "code",
   "execution_count": 35,
   "id": "1c5ef748",
   "metadata": {},
   "outputs": [
    {
     "name": "stdout",
     "output_type": "stream",
     "text": [
      "This is a Ham mail.\n"
     ]
    }
   ],
   "source": [
    "input_mail = [\"I've been searching for the right words to thank you for this breather. I promise i wont take your help for granted and will fulfil my promise. You have been wonderful and a blessing at all times.\"]\n",
    "\n",
    "#convert text to feature vectors\n",
    "input_data_features = feature_extraction.transform(input_mail)\n",
    "\n",
    "#making prediction\n",
    "prediction = model.predict(input_data_features)\n",
    "if prediction[0] == 1:\n",
    "    print(\"This is a Ham mail.\")\n",
    "else:\n",
    "    print(\"This is a Spam mail.\")"
   ]
  },
  {
   "cell_type": "code",
   "execution_count": 36,
   "id": "6942ec2c",
   "metadata": {},
   "outputs": [
    {
     "name": "stdout",
     "output_type": "stream",
     "text": [
      "This is a Ham mail.\n",
      "This is a Ham mail.\n"
     ]
    }
   ],
   "source": [
    "input_mail = [\"I've been searching for the right words to thank you for this breather. I promise i wont take your help for granted and will fulfil my promise. You have been wonderful and a blessing at all times.\" , \" Ok lar... Joking wif u oni...\"]\n",
    "for mails in input_mail:\n",
    "    #convert text to feature vectors\n",
    "    input_data_features = feature_extraction.transform(input_mail)\n",
    "\n",
    "    #making prediction\n",
    "    prediction = model.predict(input_data_features)\n",
    "    if prediction[0] == 1:\n",
    "        print(\"This is a Ham mail.\")\n",
    "    else:\n",
    "        print(\"This is a Spam mail.\")"
   ]
  },
  {
   "cell_type": "code",
   "execution_count": null,
   "id": "b723d9d9",
   "metadata": {},
   "outputs": [],
   "source": [
    "lst = []\n",
    "n = int(input(\"Enter number of mails : \"))\n",
    " \n",
    "# iterating till the range\n",
    "for i in range(0, n):\n",
    "    mails = input()\n",
    "    lst.append(mails) \n",
    "    \n",
    "for mail in lst:\n",
    "#convert text to feature vectors\n",
    "    input_data_features = feature_extraction.transform(lst)\n",
    "\n",
    "#making prediction\n",
    "    prediction = model.predict(input_data_features)\n",
    "    if prediction[0] == 1:\n",
    "        print(\"This is a Ham mail.\")\n",
    "    else:\n",
    "        print(\"This is a Spam mail.\")"
   ]
  },
  {
   "cell_type": "code",
   "execution_count": null,
   "id": "9f3cbb58",
   "metadata": {},
   "outputs": [],
   "source": []
  }
 ],
 "metadata": {
  "kernelspec": {
   "display_name": "Python 3",
   "language": "python",
   "name": "python3"
  },
  "language_info": {
   "codemirror_mode": {
    "name": "ipython",
    "version": 3
   },
   "file_extension": ".py",
   "mimetype": "text/x-python",
   "name": "python",
   "nbconvert_exporter": "python",
   "pygments_lexer": "ipython3",
   "version": "3.8.8"
  }
 },
 "nbformat": 4,
 "nbformat_minor": 5
}
